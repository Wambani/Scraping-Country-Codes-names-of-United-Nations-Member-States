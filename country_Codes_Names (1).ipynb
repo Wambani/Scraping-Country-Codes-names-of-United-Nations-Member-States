{
 "cells": [
  {
   "cell_type": "code",
   "execution_count": 1,
   "metadata": {},
   "outputs": [],
   "source": [
    "import pandas as pd\n",
    "import numpy as np\n",
    "from urllib.request import urlopen\n",
    "from bs4 import BeautifulSoup"
   ]
  },
  {
   "cell_type": "code",
   "execution_count": 2,
   "metadata": {},
   "outputs": [],
   "source": [
    "url = ('http://www.fao.org/countryprofiles/iso3list/en/')\n",
    "html = urlopen(url)"
   ]
  },
  {
   "cell_type": "code",
   "execution_count": 3,
   "metadata": {},
   "outputs": [
    {
     "data": {
      "text/plain": [
       "bs4.BeautifulSoup"
      ]
     },
     "execution_count": 3,
     "metadata": {},
     "output_type": "execute_result"
    }
   ],
   "source": [
    "soup = BeautifulSoup(html, 'lxml')\n",
    "type(soup)"
   ]
  },
  {
   "cell_type": "code",
   "execution_count": 4,
   "metadata": {},
   "outputs": [
    {
     "name": "stdout",
     "output_type": "stream",
     "text": [
      "<title>Country codes/names | FAO | Food and Agriculture Organization of the United Nations</title>\n"
     ]
    }
   ],
   "source": [
    "# Getting the title of the page\n",
    "title = soup.title\n",
    "print(title)"
   ]
  },
  {
   "cell_type": "code",
   "execution_count": 5,
   "metadata": {},
   "outputs": [],
   "source": [
    "content = soup.find(id=\"c460959\")"
   ]
  },
  {
   "cell_type": "code",
   "execution_count": 6,
   "metadata": {},
   "outputs": [],
   "source": [
    "# content"
   ]
  },
  {
   "cell_type": "code",
   "execution_count": 7,
   "metadata": {},
   "outputs": [
    {
     "data": {
      "text/plain": [
       "[<th>Short name</th>,\n",
       " <th>Official name</th>,\n",
       " <th>ISO3</th>,\n",
       " <th>ISO2</th>,\n",
       " <th>UNI</th>,\n",
       " <th>UNDP</th>,\n",
       " <th>FAOSTAT</th>,\n",
       " <th>GAUL</th>]"
      ]
     },
     "execution_count": 7,
     "metadata": {},
     "output_type": "execute_result"
    }
   ],
   "source": [
    "headers = content.find_all('th')\n",
    "headers"
   ]
  },
  {
   "cell_type": "code",
   "execution_count": 8,
   "metadata": {},
   "outputs": [
    {
     "data": {
      "text/plain": [
       "[<td class=\"shortname\" id=\"divcountryAFG\">\n",
       " <a href=\"http://www.fao.org/countryprofiles/index/en/?iso3=AFG\" target=\"_self\">Afghanistan</a>\n",
       " </td>, <td class=\"shortname\" id=\"divcountryALB\">\n",
       " <a href=\"http://www.fao.org/countryprofiles/index/en/?iso3=ALB\" target=\"_self\">Albania</a>\n",
       " </td>, <td class=\"shortname\" id=\"divcountryDZA\">\n",
       " <a href=\"http://www.fao.org/countryprofiles/index/en/?iso3=DZA\" target=\"_self\">Algeria</a>\n",
       " </td>, <td class=\"shortname\" id=\"divcountryAND\">\n",
       " <a href=\"http://www.fao.org/countryprofiles/index/en/?iso3=AND\" target=\"_self\">Andorra</a>\n",
       " </td>, <td class=\"shortname\" id=\"divcountryAGO\">\n",
       " <a href=\"http://www.fao.org/countryprofiles/index/en/?iso3=AGO\" target=\"_self\">Angola</a>\n",
       " </td>]"
      ]
     },
     "execution_count": 8,
     "metadata": {},
     "output_type": "execute_result"
    }
   ],
   "source": [
    "content.find_all(class_=\"shortname\")[:5]"
   ]
  },
  {
   "cell_type": "code",
   "execution_count": 9,
   "metadata": {},
   "outputs": [],
   "source": [
    "shortName = content.find_all('a')"
   ]
  },
  {
   "cell_type": "code",
   "execution_count": 10,
   "metadata": {},
   "outputs": [
    {
     "data": {
      "text/plain": [
       "[<a href=\"http://www.fao.org/countryprofiles/index/en/?iso3=AFG\" target=\"_self\">Afghanistan</a>,\n",
       " <a href=\"http://www.fao.org/countryprofiles/index/en/?iso3=ALB\" target=\"_self\">Albania</a>,\n",
       " <a href=\"http://www.fao.org/countryprofiles/index/en/?iso3=DZA\" target=\"_self\">Algeria</a>,\n",
       " <a href=\"http://www.fao.org/countryprofiles/index/en/?iso3=AND\" target=\"_self\">Andorra</a>,\n",
       " <a href=\"http://www.fao.org/countryprofiles/index/en/?iso3=AGO\" target=\"_self\">Angola</a>,\n",
       " <a href=\"http://www.fao.org/countryprofiles/index/en/?iso3=ATG\" target=\"_self\">Antigua and Barbuda</a>,\n",
       " <a href=\"http://www.fao.org/countryprofiles/index/en/?iso3=ARG\" target=\"_self\">Argentina</a>,\n",
       " <a href=\"http://www.fao.org/countryprofiles/index/en/?iso3=ARM\" target=\"_self\">Armenia</a>,\n",
       " <a href=\"http://www.fao.org/countryprofiles/index/en/?iso3=AUS\" target=\"_self\">Australia</a>,\n",
       " <a href=\"http://www.fao.org/countryprofiles/index/en/?iso3=AUT\" target=\"_self\">Austria</a>]"
      ]
     },
     "execution_count": 10,
     "metadata": {},
     "output_type": "execute_result"
    }
   ],
   "source": [
    "shortName[:10]"
   ]
  },
  {
   "cell_type": "code",
   "execution_count": 11,
   "metadata": {},
   "outputs": [
    {
     "data": {
      "text/plain": [
       "bs4.element.Tag"
      ]
     },
     "execution_count": 11,
     "metadata": {},
     "output_type": "execute_result"
    }
   ],
   "source": [
    "type(shortName[0])"
   ]
  },
  {
   "cell_type": "code",
   "execution_count": 12,
   "metadata": {},
   "outputs": [],
   "source": [
    "def tagFunction(tagLines): \n",
    "    textList = []\n",
    "    for line in tagLines:\n",
    "        text = line.get_text()\n",
    "        textList.append(text)\n",
    "    return textList"
   ]
  },
  {
   "cell_type": "code",
   "execution_count": 13,
   "metadata": {},
   "outputs": [
    {
     "name": "stdout",
     "output_type": "stream",
     "text": [
      "['Afghanistan', 'Albania', 'Algeria', 'Andorra', 'Angola', 'Antigua and Barbuda', 'Argentina', 'Armenia', 'Australia', 'Austria']\n"
     ]
    }
   ],
   "source": [
    "shortName = tagFunction(shortName)\n",
    "print(shortName[:10])"
   ]
  },
  {
   "cell_type": "code",
   "execution_count": 14,
   "metadata": {},
   "outputs": [],
   "source": [
    "officialName = content.find_all(class_=\"official\")"
   ]
  },
  {
   "cell_type": "code",
   "execution_count": 15,
   "metadata": {},
   "outputs": [
    {
     "data": {
      "text/plain": [
       "[<td class=\"official\" id=\"countryNameLabelAFG\">the Islamic Republic of Afghanistan</td>,\n",
       " <td class=\"official\" id=\"countryNameLabelALB\">the Republic of Albania</td>,\n",
       " <td class=\"official\" id=\"countryNameLabelDZA\">the People's Democratic Republic of Algeria</td>,\n",
       " <td class=\"official\" id=\"countryNameLabelAND\">the Principality of Andorra</td>,\n",
       " <td class=\"official\" id=\"countryNameLabelAGO\">the Republic of Angola</td>,\n",
       " <td class=\"official\" id=\"countryNameLabelATG\">Antigua and Barbuda</td>,\n",
       " <td class=\"official\" id=\"countryNameLabelARG\">the Argentine Republic</td>,\n",
       " <td class=\"official\" id=\"countryNameLabelARM\">the Republic of Armenia</td>,\n",
       " <td class=\"official\" id=\"countryNameLabelAUS\">Australia</td>,\n",
       " <td class=\"official\" id=\"countryNameLabelAUT\">the Republic of Austria</td>]"
      ]
     },
     "execution_count": 15,
     "metadata": {},
     "output_type": "execute_result"
    }
   ],
   "source": [
    "officialName[:10]"
   ]
  },
  {
   "cell_type": "code",
   "execution_count": 16,
   "metadata": {},
   "outputs": [
    {
     "name": "stdout",
     "output_type": "stream",
     "text": [
      "['the Islamic Republic of Afghanistan', 'the Republic of Albania', \"the People's Democratic Republic of Algeria\", 'the Principality of Andorra', 'the Republic of Angola', 'Antigua and Barbuda', 'the Argentine Republic', 'the Republic of Armenia', 'Australia', 'the Republic of Austria']\n"
     ]
    }
   ],
   "source": [
    "officialName = tagFunction(officialName)\n",
    "print(officialName[:10])"
   ]
  },
  {
   "cell_type": "code",
   "execution_count": 17,
   "metadata": {},
   "outputs": [],
   "source": [
    "iso3 = content.find_all(class_=\"iso3\")"
   ]
  },
  {
   "cell_type": "code",
   "execution_count": 18,
   "metadata": {},
   "outputs": [
    {
     "name": "stdout",
     "output_type": "stream",
     "text": [
      "['AFG', 'ALB', 'DZA', 'AND', 'AGO', 'ATG', 'ARG', 'ARM', 'AUS', 'AUT']\n"
     ]
    }
   ],
   "source": [
    "iso3 = tagFunction(iso3)\n",
    "print(iso3[:10])"
   ]
  },
  {
   "cell_type": "code",
   "execution_count": 19,
   "metadata": {},
   "outputs": [],
   "source": [
    "iso2 = content.find_all(class_='iso2')"
   ]
  },
  {
   "cell_type": "code",
   "execution_count": 20,
   "metadata": {},
   "outputs": [
    {
     "name": "stdout",
     "output_type": "stream",
     "text": [
      "['AF', 'AL', 'DZ', 'AD', 'AO', 'AG', 'AR', 'AM', 'AU', 'AT']\n"
     ]
    }
   ],
   "source": [
    "iso2 = tagFunction(iso2)\n",
    "print(iso2[:10])"
   ]
  },
  {
   "cell_type": "code",
   "execution_count": 21,
   "metadata": {},
   "outputs": [],
   "source": [
    "uni = content.find_all(class_=\"uni\")"
   ]
  },
  {
   "cell_type": "code",
   "execution_count": 22,
   "metadata": {},
   "outputs": [
    {
     "name": "stdout",
     "output_type": "stream",
     "text": [
      "['4', '8', '12', '20', '24', '28', '32', '51', '36', '40']\n"
     ]
    }
   ],
   "source": [
    "uni = tagFunction(uni)\n",
    "print(uni[:10])"
   ]
  },
  {
   "cell_type": "code",
   "execution_count": 23,
   "metadata": {},
   "outputs": [],
   "source": [
    "undp = content.find_all(class_=\"undp\")"
   ]
  },
  {
   "cell_type": "code",
   "execution_count": 24,
   "metadata": {},
   "outputs": [
    {
     "name": "stdout",
     "output_type": "stream",
     "text": [
      "['AFG', 'ALB', 'DZA', 'AND', 'AGO', 'ATG', 'ARG', 'ARM', 'AUS', 'AUT']\n"
     ]
    }
   ],
   "source": [
    "undp = tagFunction(undp[:10])\n",
    "print(undp[:10])"
   ]
  },
  {
   "cell_type": "code",
   "execution_count": 25,
   "metadata": {},
   "outputs": [],
   "source": [
    "faostat = content.find_all(class_=\"faostat\")"
   ]
  },
  {
   "cell_type": "code",
   "execution_count": 26,
   "metadata": {},
   "outputs": [
    {
     "name": "stdout",
     "output_type": "stream",
     "text": [
      "['2', '3', '4', '6', '7', '8', '9', '1', '10', '11']\n"
     ]
    }
   ],
   "source": [
    "faostat = tagFunction(faostat[:10])\n",
    "print(faostat[:10])"
   ]
  },
  {
   "cell_type": "code",
   "execution_count": 27,
   "metadata": {},
   "outputs": [],
   "source": [
    "gaul = content.find_all(class_=\"gaul\")"
   ]
  },
  {
   "cell_type": "code",
   "execution_count": 28,
   "metadata": {},
   "outputs": [
    {
     "name": "stdout",
     "output_type": "stream",
     "text": [
      "['1', '3', '4', '7', '8', '11', '12', '13', '17', '18']\n"
     ]
    }
   ],
   "source": [
    "gaul = tagFunction(gaul[:10])\n",
    "print(gaul[:10])"
   ]
  },
  {
   "cell_type": "code",
   "execution_count": 29,
   "metadata": {},
   "outputs": [],
   "source": [
    "listsContainer = [[shortName, officialName, iso3, iso2, uni, undp, faostat, gaul]]"
   ]
  },
  {
   "cell_type": "code",
   "execution_count": 30,
   "metadata": {},
   "outputs": [],
   "source": [
    "listsDfs = []\n",
    "for List in listsContainer:\n",
    "    df = pd.DataFrame(List)\n",
    "    listsDfs.append(df)"
   ]
  },
  {
   "cell_type": "code",
   "execution_count": 31,
   "metadata": {},
   "outputs": [],
   "source": [
    "df = pd.concat(listsDfs)"
   ]
  },
  {
   "cell_type": "code",
   "execution_count": 32,
   "metadata": {},
   "outputs": [
    {
     "data": {
      "text/html": [
       "<div>\n",
       "<style scoped>\n",
       "    .dataframe tbody tr th:only-of-type {\n",
       "        vertical-align: middle;\n",
       "    }\n",
       "\n",
       "    .dataframe tbody tr th {\n",
       "        vertical-align: top;\n",
       "    }\n",
       "\n",
       "    .dataframe thead th {\n",
       "        text-align: right;\n",
       "    }\n",
       "</style>\n",
       "<table border=\"1\" class=\"dataframe\">\n",
       "  <thead>\n",
       "    <tr style=\"text-align: right;\">\n",
       "      <th></th>\n",
       "      <th>0</th>\n",
       "      <th>1</th>\n",
       "      <th>2</th>\n",
       "      <th>3</th>\n",
       "      <th>4</th>\n",
       "      <th>5</th>\n",
       "      <th>6</th>\n",
       "      <th>7</th>\n",
       "      <th>8</th>\n",
       "      <th>9</th>\n",
       "      <th>...</th>\n",
       "      <th>186</th>\n",
       "      <th>187</th>\n",
       "      <th>188</th>\n",
       "      <th>189</th>\n",
       "      <th>190</th>\n",
       "      <th>191</th>\n",
       "      <th>192</th>\n",
       "      <th>193</th>\n",
       "      <th>194</th>\n",
       "      <th>195</th>\n",
       "    </tr>\n",
       "  </thead>\n",
       "  <tbody>\n",
       "    <tr>\n",
       "      <th>0</th>\n",
       "      <td>Afghanistan</td>\n",
       "      <td>Albania</td>\n",
       "      <td>Algeria</td>\n",
       "      <td>Andorra</td>\n",
       "      <td>Angola</td>\n",
       "      <td>Antigua and Barbuda</td>\n",
       "      <td>Argentina</td>\n",
       "      <td>Armenia</td>\n",
       "      <td>Australia</td>\n",
       "      <td>Austria</td>\n",
       "      <td>...</td>\n",
       "      <td>United Republic of Tanzania</td>\n",
       "      <td>United States of America</td>\n",
       "      <td>Uruguay</td>\n",
       "      <td>Uzbekistan</td>\n",
       "      <td>Vanuatu</td>\n",
       "      <td>Venezuela (Bolivarian Republic of)</td>\n",
       "      <td>Viet Nam</td>\n",
       "      <td>Yemen</td>\n",
       "      <td>Zambia</td>\n",
       "      <td>Zimbabwe</td>\n",
       "    </tr>\n",
       "    <tr>\n",
       "      <th>1</th>\n",
       "      <td>the Islamic Republic of Afghanistan</td>\n",
       "      <td>the Republic of Albania</td>\n",
       "      <td>the People's Democratic Republic of Algeria</td>\n",
       "      <td>the Principality of Andorra</td>\n",
       "      <td>the Republic of Angola</td>\n",
       "      <td>Antigua and Barbuda</td>\n",
       "      <td>the Argentine Republic</td>\n",
       "      <td>the Republic of Armenia</td>\n",
       "      <td>Australia</td>\n",
       "      <td>the Republic of Austria</td>\n",
       "      <td>...</td>\n",
       "      <td>the United Republic of Tanzania</td>\n",
       "      <td>the United States of America</td>\n",
       "      <td>the Eastern Republic of Uruguay</td>\n",
       "      <td>the Republic of Uzbekistan</td>\n",
       "      <td>the Republic of Vanuatu</td>\n",
       "      <td>the Bolivarian Republic of Venezuela</td>\n",
       "      <td>the Socialist Republic of Viet Nam</td>\n",
       "      <td>the Republic of Yemen</td>\n",
       "      <td>the Republic of Zambia</td>\n",
       "      <td>the Republic of Zimbabwe</td>\n",
       "    </tr>\n",
       "    <tr>\n",
       "      <th>2</th>\n",
       "      <td>AFG</td>\n",
       "      <td>ALB</td>\n",
       "      <td>DZA</td>\n",
       "      <td>AND</td>\n",
       "      <td>AGO</td>\n",
       "      <td>ATG</td>\n",
       "      <td>ARG</td>\n",
       "      <td>ARM</td>\n",
       "      <td>AUS</td>\n",
       "      <td>AUT</td>\n",
       "      <td>...</td>\n",
       "      <td>TZA</td>\n",
       "      <td>USA</td>\n",
       "      <td>URY</td>\n",
       "      <td>UZB</td>\n",
       "      <td>VUT</td>\n",
       "      <td>VEN</td>\n",
       "      <td>VNM</td>\n",
       "      <td>YEM</td>\n",
       "      <td>ZMB</td>\n",
       "      <td>ZWE</td>\n",
       "    </tr>\n",
       "    <tr>\n",
       "      <th>3</th>\n",
       "      <td>AF</td>\n",
       "      <td>AL</td>\n",
       "      <td>DZ</td>\n",
       "      <td>AD</td>\n",
       "      <td>AO</td>\n",
       "      <td>AG</td>\n",
       "      <td>AR</td>\n",
       "      <td>AM</td>\n",
       "      <td>AU</td>\n",
       "      <td>AT</td>\n",
       "      <td>...</td>\n",
       "      <td>TZ</td>\n",
       "      <td>US</td>\n",
       "      <td>UY</td>\n",
       "      <td>UZ</td>\n",
       "      <td>VU</td>\n",
       "      <td>VE</td>\n",
       "      <td>VN</td>\n",
       "      <td>YE</td>\n",
       "      <td>ZM</td>\n",
       "      <td>ZW</td>\n",
       "    </tr>\n",
       "    <tr>\n",
       "      <th>4</th>\n",
       "      <td>4</td>\n",
       "      <td>8</td>\n",
       "      <td>12</td>\n",
       "      <td>20</td>\n",
       "      <td>24</td>\n",
       "      <td>28</td>\n",
       "      <td>32</td>\n",
       "      <td>51</td>\n",
       "      <td>36</td>\n",
       "      <td>40</td>\n",
       "      <td>...</td>\n",
       "      <td>834</td>\n",
       "      <td>840</td>\n",
       "      <td>858</td>\n",
       "      <td>860</td>\n",
       "      <td>548</td>\n",
       "      <td>862</td>\n",
       "      <td>704</td>\n",
       "      <td>887</td>\n",
       "      <td>894</td>\n",
       "      <td>716</td>\n",
       "    </tr>\n",
       "    <tr>\n",
       "      <th>5</th>\n",
       "      <td>AFG</td>\n",
       "      <td>ALB</td>\n",
       "      <td>DZA</td>\n",
       "      <td>AND</td>\n",
       "      <td>AGO</td>\n",
       "      <td>ATG</td>\n",
       "      <td>ARG</td>\n",
       "      <td>ARM</td>\n",
       "      <td>AUS</td>\n",
       "      <td>AUT</td>\n",
       "      <td>...</td>\n",
       "      <td>None</td>\n",
       "      <td>None</td>\n",
       "      <td>None</td>\n",
       "      <td>None</td>\n",
       "      <td>None</td>\n",
       "      <td>None</td>\n",
       "      <td>None</td>\n",
       "      <td>None</td>\n",
       "      <td>None</td>\n",
       "      <td>None</td>\n",
       "    </tr>\n",
       "    <tr>\n",
       "      <th>6</th>\n",
       "      <td>2</td>\n",
       "      <td>3</td>\n",
       "      <td>4</td>\n",
       "      <td>6</td>\n",
       "      <td>7</td>\n",
       "      <td>8</td>\n",
       "      <td>9</td>\n",
       "      <td>1</td>\n",
       "      <td>10</td>\n",
       "      <td>11</td>\n",
       "      <td>...</td>\n",
       "      <td>None</td>\n",
       "      <td>None</td>\n",
       "      <td>None</td>\n",
       "      <td>None</td>\n",
       "      <td>None</td>\n",
       "      <td>None</td>\n",
       "      <td>None</td>\n",
       "      <td>None</td>\n",
       "      <td>None</td>\n",
       "      <td>None</td>\n",
       "    </tr>\n",
       "    <tr>\n",
       "      <th>7</th>\n",
       "      <td>1</td>\n",
       "      <td>3</td>\n",
       "      <td>4</td>\n",
       "      <td>7</td>\n",
       "      <td>8</td>\n",
       "      <td>11</td>\n",
       "      <td>12</td>\n",
       "      <td>13</td>\n",
       "      <td>17</td>\n",
       "      <td>18</td>\n",
       "      <td>...</td>\n",
       "      <td>None</td>\n",
       "      <td>None</td>\n",
       "      <td>None</td>\n",
       "      <td>None</td>\n",
       "      <td>None</td>\n",
       "      <td>None</td>\n",
       "      <td>None</td>\n",
       "      <td>None</td>\n",
       "      <td>None</td>\n",
       "      <td>None</td>\n",
       "    </tr>\n",
       "  </tbody>\n",
       "</table>\n",
       "<p>8 rows × 196 columns</p>\n",
       "</div>"
      ],
      "text/plain": [
       "                                   0                        1    \\\n",
       "0                          Afghanistan                  Albania   \n",
       "1  the Islamic Republic of Afghanistan  the Republic of Albania   \n",
       "2                                  AFG                      ALB   \n",
       "3                                   AF                       AL   \n",
       "4                                    4                        8   \n",
       "5                                  AFG                      ALB   \n",
       "6                                    2                        3   \n",
       "7                                    1                        3   \n",
       "\n",
       "                                           2                            3    \\\n",
       "0                                      Algeria                      Andorra   \n",
       "1  the People's Democratic Republic of Algeria  the Principality of Andorra   \n",
       "2                                          DZA                          AND   \n",
       "3                                           DZ                           AD   \n",
       "4                                           12                           20   \n",
       "5                                          DZA                          AND   \n",
       "6                                            4                            6   \n",
       "7                                            4                            7   \n",
       "\n",
       "                      4                    5                       6    \\\n",
       "0                  Angola  Antigua and Barbuda               Argentina   \n",
       "1  the Republic of Angola  Antigua and Barbuda  the Argentine Republic   \n",
       "2                     AGO                  ATG                     ARG   \n",
       "3                      AO                   AG                      AR   \n",
       "4                      24                   28                      32   \n",
       "5                     AGO                  ATG                     ARG   \n",
       "6                       7                    8                       9   \n",
       "7                       8                   11                      12   \n",
       "\n",
       "                       7          8                        9    \\\n",
       "0                  Armenia  Australia                  Austria   \n",
       "1  the Republic of Armenia  Australia  the Republic of Austria   \n",
       "2                      ARM        AUS                      AUT   \n",
       "3                       AM         AU                       AT   \n",
       "4                       51         36                       40   \n",
       "5                      ARM        AUS                      AUT   \n",
       "6                        1         10                       11   \n",
       "7                       13         17                       18   \n",
       "\n",
       "             ...                                         186  \\\n",
       "0            ...                 United Republic of Tanzania   \n",
       "1            ...             the United Republic of Tanzania   \n",
       "2            ...                                         TZA   \n",
       "3            ...                                          TZ   \n",
       "4            ...                                         834   \n",
       "5            ...                                        None   \n",
       "6            ...                                        None   \n",
       "7            ...                                        None   \n",
       "\n",
       "                            187                              188  \\\n",
       "0      United States of America                          Uruguay   \n",
       "1  the United States of America  the Eastern Republic of Uruguay   \n",
       "2                           USA                              URY   \n",
       "3                            US                               UY   \n",
       "4                           840                              858   \n",
       "5                          None                             None   \n",
       "6                          None                             None   \n",
       "7                          None                             None   \n",
       "\n",
       "                          189                      190  \\\n",
       "0                  Uzbekistan                  Vanuatu   \n",
       "1  the Republic of Uzbekistan  the Republic of Vanuatu   \n",
       "2                         UZB                      VUT   \n",
       "3                          UZ                       VU   \n",
       "4                         860                      548   \n",
       "5                        None                     None   \n",
       "6                        None                     None   \n",
       "7                        None                     None   \n",
       "\n",
       "                                    191                                 192  \\\n",
       "0    Venezuela (Bolivarian Republic of)                            Viet Nam   \n",
       "1  the Bolivarian Republic of Venezuela  the Socialist Republic of Viet Nam   \n",
       "2                                   VEN                                 VNM   \n",
       "3                                    VE                                  VN   \n",
       "4                                   862                                 704   \n",
       "5                                  None                                None   \n",
       "6                                  None                                None   \n",
       "7                                  None                                None   \n",
       "\n",
       "                     193                     194                       195  \n",
       "0                  Yemen                  Zambia                  Zimbabwe  \n",
       "1  the Republic of Yemen  the Republic of Zambia  the Republic of Zimbabwe  \n",
       "2                    YEM                     ZMB                       ZWE  \n",
       "3                     YE                      ZM                        ZW  \n",
       "4                    887                     894                       716  \n",
       "5                   None                    None                      None  \n",
       "6                   None                    None                      None  \n",
       "7                   None                    None                      None  \n",
       "\n",
       "[8 rows x 196 columns]"
      ]
     },
     "execution_count": 32,
     "metadata": {},
     "output_type": "execute_result"
    }
   ],
   "source": [
    "df"
   ]
  },
  {
   "cell_type": "code",
   "execution_count": 33,
   "metadata": {},
   "outputs": [],
   "source": [
    "df = df.transpose()"
   ]
  },
  {
   "cell_type": "code",
   "execution_count": 34,
   "metadata": {},
   "outputs": [
    {
     "data": {
      "text/html": [
       "<div>\n",
       "<style scoped>\n",
       "    .dataframe tbody tr th:only-of-type {\n",
       "        vertical-align: middle;\n",
       "    }\n",
       "\n",
       "    .dataframe tbody tr th {\n",
       "        vertical-align: top;\n",
       "    }\n",
       "\n",
       "    .dataframe thead th {\n",
       "        text-align: right;\n",
       "    }\n",
       "</style>\n",
       "<table border=\"1\" class=\"dataframe\">\n",
       "  <thead>\n",
       "    <tr style=\"text-align: right;\">\n",
       "      <th></th>\n",
       "      <th>0</th>\n",
       "      <th>1</th>\n",
       "      <th>2</th>\n",
       "      <th>3</th>\n",
       "      <th>4</th>\n",
       "      <th>5</th>\n",
       "      <th>6</th>\n",
       "      <th>7</th>\n",
       "    </tr>\n",
       "  </thead>\n",
       "  <tbody>\n",
       "    <tr>\n",
       "      <th>0</th>\n",
       "      <td>Afghanistan</td>\n",
       "      <td>the Islamic Republic of Afghanistan</td>\n",
       "      <td>AFG</td>\n",
       "      <td>AF</td>\n",
       "      <td>4</td>\n",
       "      <td>AFG</td>\n",
       "      <td>2</td>\n",
       "      <td>1</td>\n",
       "    </tr>\n",
       "    <tr>\n",
       "      <th>1</th>\n",
       "      <td>Albania</td>\n",
       "      <td>the Republic of Albania</td>\n",
       "      <td>ALB</td>\n",
       "      <td>AL</td>\n",
       "      <td>8</td>\n",
       "      <td>ALB</td>\n",
       "      <td>3</td>\n",
       "      <td>3</td>\n",
       "    </tr>\n",
       "    <tr>\n",
       "      <th>2</th>\n",
       "      <td>Algeria</td>\n",
       "      <td>the People's Democratic Republic of Algeria</td>\n",
       "      <td>DZA</td>\n",
       "      <td>DZ</td>\n",
       "      <td>12</td>\n",
       "      <td>DZA</td>\n",
       "      <td>4</td>\n",
       "      <td>4</td>\n",
       "    </tr>\n",
       "    <tr>\n",
       "      <th>3</th>\n",
       "      <td>Andorra</td>\n",
       "      <td>the Principality of Andorra</td>\n",
       "      <td>AND</td>\n",
       "      <td>AD</td>\n",
       "      <td>20</td>\n",
       "      <td>AND</td>\n",
       "      <td>6</td>\n",
       "      <td>7</td>\n",
       "    </tr>\n",
       "    <tr>\n",
       "      <th>4</th>\n",
       "      <td>Angola</td>\n",
       "      <td>the Republic of Angola</td>\n",
       "      <td>AGO</td>\n",
       "      <td>AO</td>\n",
       "      <td>24</td>\n",
       "      <td>AGO</td>\n",
       "      <td>7</td>\n",
       "      <td>8</td>\n",
       "    </tr>\n",
       "  </tbody>\n",
       "</table>\n",
       "</div>"
      ],
      "text/plain": [
       "             0                                            1    2   3   4    5  \\\n",
       "0  Afghanistan          the Islamic Republic of Afghanistan  AFG  AF   4  AFG   \n",
       "1      Albania                      the Republic of Albania  ALB  AL   8  ALB   \n",
       "2      Algeria  the People's Democratic Republic of Algeria  DZA  DZ  12  DZA   \n",
       "3      Andorra                  the Principality of Andorra  AND  AD  20  AND   \n",
       "4       Angola                       the Republic of Angola  AGO  AO  24  AGO   \n",
       "\n",
       "   6  7  \n",
       "0  2  1  \n",
       "1  3  3  \n",
       "2  4  4  \n",
       "3  6  7  \n",
       "4  7  8  "
      ]
     },
     "execution_count": 34,
     "metadata": {},
     "output_type": "execute_result"
    }
   ],
   "source": [
    "df.head()"
   ]
  },
  {
   "cell_type": "code",
   "execution_count": 35,
   "metadata": {},
   "outputs": [],
   "source": [
    "# Naming the columns\n",
    "df.columns = ['Short name', 'Official Name', 'ISO3', 'ISO3', 'UNI', 'UNDP','FAOSTAT', 'GAUL']"
   ]
  },
  {
   "cell_type": "code",
   "execution_count": 36,
   "metadata": {},
   "outputs": [
    {
     "data": {
      "text/html": [
       "<div>\n",
       "<style scoped>\n",
       "    .dataframe tbody tr th:only-of-type {\n",
       "        vertical-align: middle;\n",
       "    }\n",
       "\n",
       "    .dataframe tbody tr th {\n",
       "        vertical-align: top;\n",
       "    }\n",
       "\n",
       "    .dataframe thead th {\n",
       "        text-align: right;\n",
       "    }\n",
       "</style>\n",
       "<table border=\"1\" class=\"dataframe\">\n",
       "  <thead>\n",
       "    <tr style=\"text-align: right;\">\n",
       "      <th></th>\n",
       "      <th>Short name</th>\n",
       "      <th>Official Name</th>\n",
       "      <th>ISO3</th>\n",
       "      <th>ISO3</th>\n",
       "      <th>UNI</th>\n",
       "      <th>UNDP</th>\n",
       "      <th>FAOSTAT</th>\n",
       "      <th>GAUL</th>\n",
       "    </tr>\n",
       "  </thead>\n",
       "  <tbody>\n",
       "    <tr>\n",
       "      <th>0</th>\n",
       "      <td>Afghanistan</td>\n",
       "      <td>the Islamic Republic of Afghanistan</td>\n",
       "      <td>AFG</td>\n",
       "      <td>AF</td>\n",
       "      <td>4</td>\n",
       "      <td>AFG</td>\n",
       "      <td>2</td>\n",
       "      <td>1</td>\n",
       "    </tr>\n",
       "    <tr>\n",
       "      <th>1</th>\n",
       "      <td>Albania</td>\n",
       "      <td>the Republic of Albania</td>\n",
       "      <td>ALB</td>\n",
       "      <td>AL</td>\n",
       "      <td>8</td>\n",
       "      <td>ALB</td>\n",
       "      <td>3</td>\n",
       "      <td>3</td>\n",
       "    </tr>\n",
       "    <tr>\n",
       "      <th>2</th>\n",
       "      <td>Algeria</td>\n",
       "      <td>the People's Democratic Republic of Algeria</td>\n",
       "      <td>DZA</td>\n",
       "      <td>DZ</td>\n",
       "      <td>12</td>\n",
       "      <td>DZA</td>\n",
       "      <td>4</td>\n",
       "      <td>4</td>\n",
       "    </tr>\n",
       "    <tr>\n",
       "      <th>3</th>\n",
       "      <td>Andorra</td>\n",
       "      <td>the Principality of Andorra</td>\n",
       "      <td>AND</td>\n",
       "      <td>AD</td>\n",
       "      <td>20</td>\n",
       "      <td>AND</td>\n",
       "      <td>6</td>\n",
       "      <td>7</td>\n",
       "    </tr>\n",
       "    <tr>\n",
       "      <th>4</th>\n",
       "      <td>Angola</td>\n",
       "      <td>the Republic of Angola</td>\n",
       "      <td>AGO</td>\n",
       "      <td>AO</td>\n",
       "      <td>24</td>\n",
       "      <td>AGO</td>\n",
       "      <td>7</td>\n",
       "      <td>8</td>\n",
       "    </tr>\n",
       "  </tbody>\n",
       "</table>\n",
       "</div>"
      ],
      "text/plain": [
       "    Short name                                Official Name ISO3 ISO3 UNI  \\\n",
       "0  Afghanistan          the Islamic Republic of Afghanistan  AFG   AF   4   \n",
       "1      Albania                      the Republic of Albania  ALB   AL   8   \n",
       "2      Algeria  the People's Democratic Republic of Algeria  DZA   DZ  12   \n",
       "3      Andorra                  the Principality of Andorra  AND   AD  20   \n",
       "4       Angola                       the Republic of Angola  AGO   AO  24   \n",
       "\n",
       "  UNDP FAOSTAT GAUL  \n",
       "0  AFG       2    1  \n",
       "1  ALB       3    3  \n",
       "2  DZA       4    4  \n",
       "3  AND       6    7  \n",
       "4  AGO       7    8  "
      ]
     },
     "execution_count": 36,
     "metadata": {},
     "output_type": "execute_result"
    }
   ],
   "source": [
    "df.head()"
   ]
  },
  {
   "cell_type": "code",
   "execution_count": null,
   "metadata": {},
   "outputs": [],
   "source": []
  }
 ],
 "metadata": {
  "kernelspec": {
   "display_name": "Python 3",
   "language": "python",
   "name": "python3"
  },
  "language_info": {
   "codemirror_mode": {
    "name": "ipython",
    "version": 3
   },
   "file_extension": ".py",
   "mimetype": "text/x-python",
   "name": "python",
   "nbconvert_exporter": "python",
   "pygments_lexer": "ipython3",
   "version": "3.7.1"
  }
 },
 "nbformat": 4,
 "nbformat_minor": 2
}
